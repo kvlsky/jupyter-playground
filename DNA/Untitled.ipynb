{
 "cells": [
  {
   "cell_type": "code",
   "execution_count": 7,
   "metadata": {},
   "outputs": [
    {
     "name": "stdout",
     "output_type": "stream",
     "text": [
      "?rw-r--r-- www/www   26322113 2018-08-16 09:04:18 ncbi-genomes-2018-08-16/GCF_000001405.38_GRCh38.p12_protein.faa.gz \n",
      "?rw-r--r-- www/www         77 2018-08-16 09:04:20 ncbi-genomes-2018-08-16/md5checksums.txt \n",
      "?rw-r--r-- www/www      27762 2018-08-16 09:04:20 ncbi-genomes-2018-08-16/README.txt \n",
      "?rw-r--r-- www/www        226 2018-08-16 09:04:20 report.txt \n"
     ]
    },
    {
     "name": "stderr",
     "output_type": "stream",
     "text": [
      "IOPub data rate exceeded.\n",
      "The notebook server will temporarily stop sending output\n",
      "to the client in order to avoid crashing it.\n",
      "To change this limit, set the config variable\n",
      "`--NotebookApp.iopub_data_rate_limit`.\n",
      "\n",
      "Current values:\n",
      "NotebookApp.iopub_data_rate_limit=1000000.0 (bytes/sec)\n",
      "NotebookApp.rate_limit_window=3.0 (secs)\n",
      "\n"
     ]
    }
   ],
   "source": [
    "import tarfile\n",
    "import gzip\n",
    "\n",
    "tar = tarfile.open(\"genome_assemblies.tar\")\n",
    "tar.extractall()\n",
    "tar.list()\n",
    "report = tar.extract('report.txt')\n",
    "\n",
    "with gzip.open('ncbi-genomes-2018-08-16/GCF_000001405.38_GRCh38.p12_protein.faa.gz', 'rb') as f:\n",
    "    file_content = f.read()\n",
    "    print(file_content)\n",
    "\n",
    "tar.close()"
   ]
  }
 ],
 "metadata": {
  "kernelspec": {
   "display_name": "Python 3",
   "language": "python",
   "name": "python3"
  },
  "language_info": {
   "codemirror_mode": {
    "name": "ipython",
    "version": 3
   },
   "file_extension": ".py",
   "mimetype": "text/x-python",
   "name": "python",
   "nbconvert_exporter": "python",
   "pygments_lexer": "ipython3",
   "version": "3.6.5"
  }
 },
 "nbformat": 4,
 "nbformat_minor": 2
}
