{
 "cells": [
  {
   "cell_type": "code",
   "execution_count": 121,
   "metadata": {
    "scrolled": false
   },
   "outputs": [
    {
     "name": "stdout",
     "output_type": "stream",
     "text": [
      "         Indicator    Type1,%    Type2,%    Type3,%    Type4,%    Type5,%  \\\n",
      "0       Heart rate  13.194444  17.361111   6.250000  22.222222  15.972222   \n",
      "1       Mean Sym T  20.833333  13.888889   9.722222  17.361111  17.361111   \n",
      "2        RMS Sym T  18.750000  16.666667   1.388889  23.611111  22.916667   \n",
      "3             SDNN  18.750000  19.444444   2.777778  25.000000  26.388889   \n",
      "4    Voltage Index  18.750000  19.444444   0.000000  27.777778  27.777778   \n",
      "5         ST Shift  12.500000  22.222222   0.000000  31.944444  31.250000   \n",
      "6  P-Q(R) Interval  15.972222  16.666667  14.583333  10.416667  13.888889   \n",
      "7       Square T/R  24.305556  27.777778   1.388889  15.972222  16.666667   \n",
      "\n",
      "       SUM,%  \n",
      "0  75.000000  \n",
      "1  79.166667  \n",
      "2  83.333333  \n",
      "3  92.361111  \n",
      "4  93.750000  \n",
      "5  97.916667  \n",
      "6  71.527778  \n",
      "7  86.111111  \n"
     ]
    }
   ],
   "source": [
    "import numpy as np\n",
    "import pandas as pd\n",
    "\n",
    "data = pd.read_csv(\"data.csv\", sep=',',encoding='utf-8')\n",
    "\n",
    "def getT(input):\n",
    "    count1 = 0\n",
    "    count2 = 0\n",
    "    count3 = 0\n",
    "    count4 = 0\n",
    "    count5 = 0\n",
    "    for i in range(0,len(data.index)-2):\n",
    "        str0 = data.loc[(i),input]\n",
    "        str1 = data.loc[(i+1),input]\n",
    "        str3 = data.loc[(i+2),input]\n",
    "        p = 0.1\n",
    "\n",
    "        try:\n",
    "            if str3 > str1 and str1 > str0 and str3 > str0:\n",
    "                count1 += 1\n",
    "            elif str0 > str1  and str1 > str3 and str0 > str3:\n",
    "                count2 += 1\n",
    "            elif abs(str3 - str1) <= str1 * p and abs(str0 - str1) <= str1 * p:\n",
    "                count3 += 1\n",
    "            elif str1 > str0 and str1 > str3 and str1 - str0 >= str1 * p and str1 - str3  >= str1 * p:\n",
    "                count4 += 1\n",
    "            elif str0 > str1 and str3 > str1 and str0-str1 >= str1 * p and str3 - str1 >=  str1 * p:\n",
    "                count5 += 1\n",
    "        except:\n",
    "            print(\"End of the table\")\n",
    "\n",
    "    T_1 = (count1 * 100) / len(data.index)\n",
    "    T_2 = (count2 * 100) / len(data.index)\n",
    "    T_3 = (count3 * 100) / len(data.index)\n",
    "    T_4 = (count4 * 100) / len(data.index)\n",
    "    T_5 = (count5 * 100) / len(data.index)\n",
    "    t_list = {'Type1,%':[T_1],'Type2,%':[T_2],'Type3,%':[T_3],'Type4,%':[T_4],'Type5,%':[T_5],'SUM,%':[T_1+T_2+T_3+T_4+T_5]}\n",
    "    t_df = pd.DataFrame(data=t_list)\n",
    "    return t_df\n",
    "\n",
    "T1 = getT('Heart rate')\n",
    "T2 = getT('Mean Sym T')\n",
    "T3 = getT('RMS Sym T')\n",
    "T4 = getT('SDNN')\n",
    "T5 = getT('Voltage Index')\n",
    "T6 = getT('ST Shift')\n",
    "T7 = getT('P-Q(R) Interval')\n",
    "T8 = getT('Square T/R')\n",
    "\n",
    "T_df = pd.DataFrame()\n",
    "T_df = T_df.append([T1,T2,T3,T4,T5,T6,T7,T8],sort=False,ignore_index=True)\n",
    "idx = 0\n",
    "new_col = ['Heart rate','Mean Sym T','RMS Sym T','SDNN','Voltage Index','ST Shift','P-Q(R) Interval','Square T/R']\n",
    "T_df.insert(loc=idx, column='Indicator', value=new_col)\n",
    "\n",
    "print(T_df)\n",
    "\n",
    "\n",
    "\n"
   ]
  }
 ],
 "metadata": {
  "kernelspec": {
   "display_name": "Python 3",
   "language": "python",
   "name": "python3"
  },
  "language_info": {
   "codemirror_mode": {
    "name": "ipython",
    "version": 3
   },
   "file_extension": ".py",
   "mimetype": "text/x-python",
   "name": "python",
   "nbconvert_exporter": "python",
   "pygments_lexer": "ipython3",
   "version": "3.6.5"
  }
 },
 "nbformat": 4,
 "nbformat_minor": 2
}
