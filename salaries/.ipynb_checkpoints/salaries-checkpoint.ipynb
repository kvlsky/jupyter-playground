{
 "cells": [
  {
   "cell_type": "code",
   "execution_count": null,
   "metadata": {
    "scrolled": false
   },
   "outputs": [],
   "source": [
    "import pandas as pd\n",
    "import numpy as np\n",
    "import matplotlib.pyplot as plt\n",
    "from scipy.stats import chisquare\n",
    "\n",
    "salaries = pd.read_csv(\"Salaries.csv\")\n",
    "# year = salaries['Year'] == 2011\n",
    "# salaries = sal[year]\n",
    "\n",
    "basepay = salaries['BasePay']\n",
    "number = salaries['Id']\n",
    "pay_mean = np.mean(basepay)\n",
    "\n",
    "fig, ax = plt.subplots(figsize=(20, 10))\n",
    "ax.scatter(number, basepay)\n",
    "\n",
    "ax.set_xlabel('Id', fontsize=15)\n",
    "ax.set_ylabel('Salary', fontsize=15)\n",
    "ax.set_title('Salaries' , fontsize=20)\n",
    "\n",
    "ax.grid(True)\n",
    "fig.tight_layout()\n",
    "\n",
    "plt.show()\n",
    "\n",
    "print(salaries.corr())\n",
    "\n",
    "chi = chisquare(salaries)\n",
    "print(chi)\n",
    "\n",
    "plt.figure(figsize=(20,10))\n",
    "plt.plot(salaries.corr())\n",
    "\n",
    "plt.show()"
   ]
  }
 ],
 "metadata": {
  "kernelspec": {
   "display_name": "Python 3",
   "language": "python",
   "name": "python3"
  },
  "language_info": {
   "codemirror_mode": {
    "name": "ipython",
    "version": 3
   },
   "file_extension": ".py",
   "mimetype": "text/x-python",
   "name": "python",
   "nbconvert_exporter": "python",
   "pygments_lexer": "ipython3",
   "version": "3.6.5"
  }
 },
 "nbformat": 4,
 "nbformat_minor": 2
}
